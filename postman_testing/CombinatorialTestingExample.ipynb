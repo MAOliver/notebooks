{
 "cells": [
  {
   "cell_type": "code",
   "execution_count": 36,
   "metadata": {
    "collapsed": true
   },
   "outputs": [],
   "source": [
    "from itertools import product\n",
    "import json"
   ]
  },
  {
   "cell_type": "code",
   "execution_count": 37,
   "metadata": {
    "collapsed": true
   },
   "outputs": [],
   "source": [
    "a = [[True,False],['Purchase','Refinance','LoanModification'],['AZ'],[1,2,3,4]]"
   ]
  },
  {
   "cell_type": "code",
   "execution_count": 38,
   "metadata": {
    "collapsed": false
   },
   "outputs": [],
   "source": [
    "combinations = list(product(*a))"
   ]
  },
  {
   "cell_type": "code",
   "execution_count": 39,
   "metadata": {
    "collapsed": false
   },
   "outputs": [
    {
     "name": "stdout",
     "output_type": "stream",
     "text": [
      "{\"policyCount\": 1, \"state\": \"AZ\", \"isVal\": true, \"loanType\": \"Purchase\"}\n",
      "{\"policyCount\": 2, \"state\": \"AZ\", \"isVal\": true, \"loanType\": \"Purchase\"}\n",
      "{\"policyCount\": 3, \"state\": \"AZ\", \"isVal\": true, \"loanType\": \"Purchase\"}\n",
      "{\"policyCount\": 4, \"state\": \"AZ\", \"isVal\": true, \"loanType\": \"Purchase\"}\n",
      "{\"policyCount\": 1, \"state\": \"AZ\", \"isVal\": true, \"loanType\": \"Refinance\"}\n",
      "{\"policyCount\": 2, \"state\": \"AZ\", \"isVal\": true, \"loanType\": \"Refinance\"}\n",
      "{\"policyCount\": 3, \"state\": \"AZ\", \"isVal\": true, \"loanType\": \"Refinance\"}\n",
      "{\"policyCount\": 4, \"state\": \"AZ\", \"isVal\": true, \"loanType\": \"Refinance\"}\n",
      "{\"policyCount\": 1, \"state\": \"AZ\", \"isVal\": true, \"loanType\": \"LoanModification\"}\n",
      "{\"policyCount\": 2, \"state\": \"AZ\", \"isVal\": true, \"loanType\": \"LoanModification\"}\n",
      "{\"policyCount\": 3, \"state\": \"AZ\", \"isVal\": true, \"loanType\": \"LoanModification\"}\n",
      "{\"policyCount\": 4, \"state\": \"AZ\", \"isVal\": true, \"loanType\": \"LoanModification\"}\n",
      "{\"policyCount\": 1, \"state\": \"AZ\", \"isVal\": false, \"loanType\": \"Purchase\"}\n",
      "{\"policyCount\": 2, \"state\": \"AZ\", \"isVal\": false, \"loanType\": \"Purchase\"}\n",
      "{\"policyCount\": 3, \"state\": \"AZ\", \"isVal\": false, \"loanType\": \"Purchase\"}\n",
      "{\"policyCount\": 4, \"state\": \"AZ\", \"isVal\": false, \"loanType\": \"Purchase\"}\n",
      "{\"policyCount\": 1, \"state\": \"AZ\", \"isVal\": false, \"loanType\": \"Refinance\"}\n",
      "{\"policyCount\": 2, \"state\": \"AZ\", \"isVal\": false, \"loanType\": \"Refinance\"}\n",
      "{\"policyCount\": 3, \"state\": \"AZ\", \"isVal\": false, \"loanType\": \"Refinance\"}\n",
      "{\"policyCount\": 4, \"state\": \"AZ\", \"isVal\": false, \"loanType\": \"Refinance\"}\n",
      "{\"policyCount\": 1, \"state\": \"AZ\", \"isVal\": false, \"loanType\": \"LoanModification\"}\n",
      "{\"policyCount\": 2, \"state\": \"AZ\", \"isVal\": false, \"loanType\": \"LoanModification\"}\n",
      "{\"policyCount\": 3, \"state\": \"AZ\", \"isVal\": false, \"loanType\": \"LoanModification\"}\n",
      "{\"policyCount\": 4, \"state\": \"AZ\", \"isVal\": false, \"loanType\": \"LoanModification\"}\n"
     ]
    }
   ],
   "source": [
    "for combination in combinations:\n",
    "    valMap = {'isVal':combination[0],'loanType':combination[1],'state':combination[2],'policyCount':combination[3]}\n",
    "    print(json.dumps(valMap, ensure_ascii=False))"
   ]
  }
 ],
 "metadata": {
  "kernelspec": {
   "display_name": "Python 3",
   "language": "python",
   "name": "python3"
  },
  "language_info": {
   "codemirror_mode": {
    "name": "ipython",
    "version": 3
   },
   "file_extension": ".py",
   "mimetype": "text/x-python",
   "name": "python",
   "nbconvert_exporter": "python",
   "pygments_lexer": "ipython3",
   "version": "3.5.1"
  }
 },
 "nbformat": 4,
 "nbformat_minor": 0
}
