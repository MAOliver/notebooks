{
 "cells": [
  {
   "cell_type": "markdown",
   "metadata": {
    "slideshow": {
     "slide_type": "slide"
    }
   },
   "source": [
    "# Testing your API using Generated Postman Tests"
   ]
  },
  {
   "cell_type": "markdown",
   "metadata": {},
   "source": [
    "- Author Matthew Oliver\n",
    "- Email matthewaustinoliver@gmail.com"
   ]
  },
  {
   "cell_type": "markdown",
   "metadata": {
    "slideshow": {
     "slide_type": "slide"
    }
   },
   "source": [
    "# An example in Python"
   ]
  },
  {
   "cell_type": "code",
   "execution_count": 1,
   "metadata": {
    "collapsed": false,
    "slideshow": {
     "slide_type": "-"
    }
   },
   "outputs": [
    {
     "data": {
      "text/html": [
       "<div>\n",
       "<table border=\"1\" class=\"dataframe\">\n",
       "  <thead>\n",
       "    <tr style=\"text-align: right;\">\n",
       "      <th></th>\n",
       "      <th>0</th>\n",
       "      <th>1</th>\n",
       "      <th>2</th>\n",
       "      <th>3</th>\n",
       "    </tr>\n",
       "  </thead>\n",
       "  <tbody>\n",
       "    <tr>\n",
       "      <th>0</th>\n",
       "      <td>True</td>\n",
       "      <td>False</td>\n",
       "      <td>None</td>\n",
       "      <td>NaN</td>\n",
       "    </tr>\n",
       "    <tr>\n",
       "      <th>1</th>\n",
       "      <td>Purchase</td>\n",
       "      <td>Refinance</td>\n",
       "      <td>LoanModification</td>\n",
       "      <td>NaN</td>\n",
       "    </tr>\n",
       "    <tr>\n",
       "      <th>2</th>\n",
       "      <td>AZ</td>\n",
       "      <td>None</td>\n",
       "      <td>None</td>\n",
       "      <td>NaN</td>\n",
       "    </tr>\n",
       "    <tr>\n",
       "      <th>3</th>\n",
       "      <td>1</td>\n",
       "      <td>2</td>\n",
       "      <td>3</td>\n",
       "      <td>4.0</td>\n",
       "    </tr>\n",
       "  </tbody>\n",
       "</table>\n",
       "</div>"
      ],
      "text/plain": [
       "          0          1                 2    3\n",
       "0      True      False              None  NaN\n",
       "1  Purchase  Refinance  LoanModification  NaN\n",
       "2        AZ       None              None  NaN\n",
       "3         1          2                 3  4.0"
      ]
     },
     "execution_count": 1,
     "metadata": {},
     "output_type": "execute_result"
    }
   ],
   "source": [
    "# imports\n",
    "%matplotlib inline\n",
    "from itertools import product\n",
    "import json, matplotlib, pyodbc, pandas, uuid, copy\n",
    "import matplotlib.pyplot as plt\n",
    "import numpy as np\n",
    "\n",
    "# some basic data\n",
    "a = [[True,False],['Purchase','Refinance','LoanModification'],['AZ'],[1,2,3,4]]\n",
    "pandas.DataFrame(a)"
   ]
  },
  {
   "cell_type": "markdown",
   "metadata": {
    "slideshow": {
     "slide_type": "slide"
    }
   },
   "source": [
    "To cover all combinations of will require n0 \\* n1 \\* ... nn combinations"
   ]
  },
  {
   "cell_type": "code",
   "execution_count": 2,
   "metadata": {
    "collapsed": false,
    "slideshow": {
     "slide_type": "-"
    }
   },
   "outputs": [
    {
     "data": {
      "text/plain": [
       "24"
      ]
     },
     "execution_count": 2,
     "metadata": {},
     "output_type": "execute_result"
    }
   ],
   "source": [
    "len(a[0])*len(a[1])*len(a[2])*len(a[3])"
   ]
  },
  {
   "cell_type": "markdown",
   "metadata": {
    "slideshow": {
     "slide_type": "slide"
    }
   },
   "source": [
    "Lets see what that looks like by generating all unique combinations."
   ]
  },
  {
   "cell_type": "code",
   "execution_count": 3,
   "metadata": {
    "collapsed": false,
    "slideshow": {
     "slide_type": "-"
    }
   },
   "outputs": [
    {
     "data": {
      "text/html": [
       "<div>\n",
       "<table border=\"1\" class=\"dataframe\">\n",
       "  <thead>\n",
       "    <tr style=\"text-align: right;\">\n",
       "      <th></th>\n",
       "      <th>0</th>\n",
       "      <th>1</th>\n",
       "      <th>2</th>\n",
       "      <th>3</th>\n",
       "    </tr>\n",
       "  </thead>\n",
       "  <tbody>\n",
       "    <tr>\n",
       "      <th>0</th>\n",
       "      <td>True</td>\n",
       "      <td>Purchase</td>\n",
       "      <td>AZ</td>\n",
       "      <td>1</td>\n",
       "    </tr>\n",
       "    <tr>\n",
       "      <th>1</th>\n",
       "      <td>True</td>\n",
       "      <td>Purchase</td>\n",
       "      <td>AZ</td>\n",
       "      <td>2</td>\n",
       "    </tr>\n",
       "    <tr>\n",
       "      <th>2</th>\n",
       "      <td>True</td>\n",
       "      <td>Purchase</td>\n",
       "      <td>AZ</td>\n",
       "      <td>3</td>\n",
       "    </tr>\n",
       "    <tr>\n",
       "      <th>3</th>\n",
       "      <td>True</td>\n",
       "      <td>Purchase</td>\n",
       "      <td>AZ</td>\n",
       "      <td>4</td>\n",
       "    </tr>\n",
       "    <tr>\n",
       "      <th>4</th>\n",
       "      <td>True</td>\n",
       "      <td>Refinance</td>\n",
       "      <td>AZ</td>\n",
       "      <td>1</td>\n",
       "    </tr>\n",
       "    <tr>\n",
       "      <th>5</th>\n",
       "      <td>True</td>\n",
       "      <td>Refinance</td>\n",
       "      <td>AZ</td>\n",
       "      <td>2</td>\n",
       "    </tr>\n",
       "    <tr>\n",
       "      <th>6</th>\n",
       "      <td>True</td>\n",
       "      <td>Refinance</td>\n",
       "      <td>AZ</td>\n",
       "      <td>3</td>\n",
       "    </tr>\n",
       "    <tr>\n",
       "      <th>7</th>\n",
       "      <td>True</td>\n",
       "      <td>Refinance</td>\n",
       "      <td>AZ</td>\n",
       "      <td>4</td>\n",
       "    </tr>\n",
       "    <tr>\n",
       "      <th>8</th>\n",
       "      <td>True</td>\n",
       "      <td>LoanModification</td>\n",
       "      <td>AZ</td>\n",
       "      <td>1</td>\n",
       "    </tr>\n",
       "    <tr>\n",
       "      <th>9</th>\n",
       "      <td>True</td>\n",
       "      <td>LoanModification</td>\n",
       "      <td>AZ</td>\n",
       "      <td>2</td>\n",
       "    </tr>\n",
       "    <tr>\n",
       "      <th>10</th>\n",
       "      <td>True</td>\n",
       "      <td>LoanModification</td>\n",
       "      <td>AZ</td>\n",
       "      <td>3</td>\n",
       "    </tr>\n",
       "    <tr>\n",
       "      <th>11</th>\n",
       "      <td>True</td>\n",
       "      <td>LoanModification</td>\n",
       "      <td>AZ</td>\n",
       "      <td>4</td>\n",
       "    </tr>\n",
       "    <tr>\n",
       "      <th>12</th>\n",
       "      <td>False</td>\n",
       "      <td>Purchase</td>\n",
       "      <td>AZ</td>\n",
       "      <td>1</td>\n",
       "    </tr>\n",
       "    <tr>\n",
       "      <th>13</th>\n",
       "      <td>False</td>\n",
       "      <td>Purchase</td>\n",
       "      <td>AZ</td>\n",
       "      <td>2</td>\n",
       "    </tr>\n",
       "    <tr>\n",
       "      <th>14</th>\n",
       "      <td>False</td>\n",
       "      <td>Purchase</td>\n",
       "      <td>AZ</td>\n",
       "      <td>3</td>\n",
       "    </tr>\n",
       "    <tr>\n",
       "      <th>15</th>\n",
       "      <td>False</td>\n",
       "      <td>Purchase</td>\n",
       "      <td>AZ</td>\n",
       "      <td>4</td>\n",
       "    </tr>\n",
       "    <tr>\n",
       "      <th>16</th>\n",
       "      <td>False</td>\n",
       "      <td>Refinance</td>\n",
       "      <td>AZ</td>\n",
       "      <td>1</td>\n",
       "    </tr>\n",
       "    <tr>\n",
       "      <th>17</th>\n",
       "      <td>False</td>\n",
       "      <td>Refinance</td>\n",
       "      <td>AZ</td>\n",
       "      <td>2</td>\n",
       "    </tr>\n",
       "    <tr>\n",
       "      <th>18</th>\n",
       "      <td>False</td>\n",
       "      <td>Refinance</td>\n",
       "      <td>AZ</td>\n",
       "      <td>3</td>\n",
       "    </tr>\n",
       "    <tr>\n",
       "      <th>19</th>\n",
       "      <td>False</td>\n",
       "      <td>Refinance</td>\n",
       "      <td>AZ</td>\n",
       "      <td>4</td>\n",
       "    </tr>\n",
       "    <tr>\n",
       "      <th>20</th>\n",
       "      <td>False</td>\n",
       "      <td>LoanModification</td>\n",
       "      <td>AZ</td>\n",
       "      <td>1</td>\n",
       "    </tr>\n",
       "    <tr>\n",
       "      <th>21</th>\n",
       "      <td>False</td>\n",
       "      <td>LoanModification</td>\n",
       "      <td>AZ</td>\n",
       "      <td>2</td>\n",
       "    </tr>\n",
       "    <tr>\n",
       "      <th>22</th>\n",
       "      <td>False</td>\n",
       "      <td>LoanModification</td>\n",
       "      <td>AZ</td>\n",
       "      <td>3</td>\n",
       "    </tr>\n",
       "    <tr>\n",
       "      <th>23</th>\n",
       "      <td>False</td>\n",
       "      <td>LoanModification</td>\n",
       "      <td>AZ</td>\n",
       "      <td>4</td>\n",
       "    </tr>\n",
       "  </tbody>\n",
       "</table>\n",
       "</div>"
      ],
      "text/plain": [
       "        0                 1   2  3\n",
       "0    True          Purchase  AZ  1\n",
       "1    True          Purchase  AZ  2\n",
       "2    True          Purchase  AZ  3\n",
       "3    True          Purchase  AZ  4\n",
       "4    True         Refinance  AZ  1\n",
       "5    True         Refinance  AZ  2\n",
       "6    True         Refinance  AZ  3\n",
       "7    True         Refinance  AZ  4\n",
       "8    True  LoanModification  AZ  1\n",
       "9    True  LoanModification  AZ  2\n",
       "10   True  LoanModification  AZ  3\n",
       "11   True  LoanModification  AZ  4\n",
       "12  False          Purchase  AZ  1\n",
       "13  False          Purchase  AZ  2\n",
       "14  False          Purchase  AZ  3\n",
       "15  False          Purchase  AZ  4\n",
       "16  False         Refinance  AZ  1\n",
       "17  False         Refinance  AZ  2\n",
       "18  False         Refinance  AZ  3\n",
       "19  False         Refinance  AZ  4\n",
       "20  False  LoanModification  AZ  1\n",
       "21  False  LoanModification  AZ  2\n",
       "22  False  LoanModification  AZ  3\n",
       "23  False  LoanModification  AZ  4"
      ]
     },
     "execution_count": 3,
     "metadata": {},
     "output_type": "execute_result"
    }
   ],
   "source": [
    "combinations = list(product(*a))\n",
    "pandas.DataFrame(combinations)"
   ]
  },
  {
   "cell_type": "markdown",
   "metadata": {
    "slideshow": {
     "slide_type": "slide"
    }
   },
   "source": [
    "We can then convert the combinations to a JSON object which will\n",
    "be our data contract in this example."
   ]
  },
  {
   "cell_type": "code",
   "execution_count": 4,
   "metadata": {
    "collapsed": false,
    "slideshow": {
     "slide_type": "-"
    }
   },
   "outputs": [
    {
     "name": "stdout",
     "output_type": "stream",
     "text": [
      "{\"policyCount\": 1, \"state\": \"AZ\", \"isVal\": true, \"loanType\": \"Purchase\"}\n",
      "{\"policyCount\": 2, \"state\": \"AZ\", \"isVal\": true, \"loanType\": \"Purchase\"}\n",
      "{\"policyCount\": 3, \"state\": \"AZ\", \"isVal\": true, \"loanType\": \"Purchase\"}\n",
      "{\"policyCount\": 4, \"state\": \"AZ\", \"isVal\": true, \"loanType\": \"Purchase\"}\n",
      "{\"policyCount\": 1, \"state\": \"AZ\", \"isVal\": true, \"loanType\": \"Refinance\"}\n",
      "{\"policyCount\": 2, \"state\": \"AZ\", \"isVal\": true, \"loanType\": \"Refinance\"}\n",
      "{\"policyCount\": 3, \"state\": \"AZ\", \"isVal\": true, \"loanType\": \"Refinance\"}\n",
      "{\"policyCount\": 4, \"state\": \"AZ\", \"isVal\": true, \"loanType\": \"Refinance\"}\n",
      "{\"policyCount\": 1, \"state\": \"AZ\", \"isVal\": true, \"loanType\": \"LoanModification\"}\n",
      "{\"policyCount\": 2, \"state\": \"AZ\", \"isVal\": true, \"loanType\": \"LoanModification\"}\n",
      "{\"policyCount\": 3, \"state\": \"AZ\", \"isVal\": true, \"loanType\": \"LoanModification\"}\n",
      "{\"policyCount\": 4, \"state\": \"AZ\", \"isVal\": true, \"loanType\": \"LoanModification\"}\n",
      "{\"policyCount\": 1, \"state\": \"AZ\", \"isVal\": false, \"loanType\": \"Purchase\"}\n",
      "{\"policyCount\": 2, \"state\": \"AZ\", \"isVal\": false, \"loanType\": \"Purchase\"}\n",
      "{\"policyCount\": 3, \"state\": \"AZ\", \"isVal\": false, \"loanType\": \"Purchase\"}\n",
      "{\"policyCount\": 4, \"state\": \"AZ\", \"isVal\": false, \"loanType\": \"Purchase\"}\n",
      "{\"policyCount\": 1, \"state\": \"AZ\", \"isVal\": false, \"loanType\": \"Refinance\"}\n",
      "{\"policyCount\": 2, \"state\": \"AZ\", \"isVal\": false, \"loanType\": \"Refinance\"}\n",
      "{\"policyCount\": 3, \"state\": \"AZ\", \"isVal\": false, \"loanType\": \"Refinance\"}\n",
      "{\"policyCount\": 4, \"state\": \"AZ\", \"isVal\": false, \"loanType\": \"Refinance\"}\n",
      "{\"policyCount\": 1, \"state\": \"AZ\", \"isVal\": false, \"loanType\": \"LoanModification\"}\n",
      "{\"policyCount\": 2, \"state\": \"AZ\", \"isVal\": false, \"loanType\": \"LoanModification\"}\n",
      "{\"policyCount\": 3, \"state\": \"AZ\", \"isVal\": false, \"loanType\": \"LoanModification\"}\n",
      "{\"policyCount\": 4, \"state\": \"AZ\", \"isVal\": false, \"loanType\": \"LoanModification\"}\n"
     ]
    }
   ],
   "source": [
    "for combination in combinations:\n",
    "    valMap = {'isVal':combination[0],'loanType':combination[1],\n",
    "              'state':combination[2],'policyCount':combination[3]}\n",
    "    print(json.dumps(valMap, ensure_ascii=False))"
   ]
  },
  {
   "cell_type": "markdown",
   "metadata": {
    "slideshow": {
     "slide_type": "slide"
    }
   },
   "source": [
    "Next, to be able to use our tests in postman we need to create a postman collection.\n",
    "First, we'll import an existing postman collection to a json object."
   ]
  },
  {
   "cell_type": "code",
   "execution_count": 5,
   "metadata": {
    "collapsed": false,
    "slideshow": {
     "slide_type": "-"
    }
   },
   "outputs": [
    {
     "data": {
      "text/plain": [
       "{'description': '# Example Tests\\n\\nA set of generated tests for postman.',\n",
       " 'folders': [{'description': '# Foldername\\n\\nThis holds requests',\n",
       "   'id': '869deeff-47cd-7504-41dd-5b278fae7b73',\n",
       "   'name': 'Folder1',\n",
       "   'order': []}],\n",
       " 'id': 'fb8ee997-7944-b912-f318-20084a4c57e1',\n",
       " 'name': 'CombinatorialTesting',\n",
       " 'order': ['9e3dcdb0-2d28-c6f8-0fcf-66dd654ffe3e'],\n",
       " 'owner': 0,\n",
       " 'public': False,\n",
       " 'remoteLink': '',\n",
       " 'requests': [{'collectionId': 'fb8ee997-7944-b912-f318-20084a4c57e1',\n",
       "   'currentHelper': 'normal',\n",
       "   'data': [],\n",
       "   'dataMode': 'raw',\n",
       "   'description': '# Tests some thing\\n\\nThis tests thing 1',\n",
       "   'descriptionFormat': 'html',\n",
       "   'headers': 'Content-Type: application/json\\n',\n",
       "   'helperAttributes': {},\n",
       "   'id': '9e3dcdb0-2d28-c6f8-0fcf-66dd654ffe3e',\n",
       "   'method': 'POST',\n",
       "   'name': 'Example1',\n",
       "   'pathVariables': {},\n",
       "   'preRequestScript': '',\n",
       "   'rawModeData': '{\"loanType\": \"Purchase\", \"state\": \"AZ\", \"policyCount\": 1, \"isVal\": true}',\n",
       "   'responses': [],\n",
       "   'tests': '',\n",
       "   'time': 1457502365809,\n",
       "   'url': '{{Url}}/Example',\n",
       "   'version': 2}],\n",
       " 'timestamp': 1457502197905}"
      ]
     },
     "execution_count": 5,
     "metadata": {},
     "output_type": "execute_result"
    }
   ],
   "source": [
    "with open('CombinatorialTesting.json.postman_collection') as data_file:    \n",
    "    postman_coll = json.load(data_file)\n",
    "postman_coll"
   ]
  },
  {
   "cell_type": "markdown",
   "metadata": {
    "slideshow": {
     "slide_type": "slide"
    }
   },
   "source": [
    "Next we manipulate the template using our unique request combinations and\n",
    "dump it back out to the file system."
   ]
  },
  {
   "cell_type": "code",
   "execution_count": 7,
   "metadata": {
    "collapsed": true,
    "slideshow": {
     "slide_type": "-"
    }
   },
   "outputs": [],
   "source": [
    "with open('CombinatorialTesting.json.postman_collection') as data_file:    \n",
    "    postman_coll = json.load(data_file)\n",
    "requestTemplate = copy.deepcopy(postman_coll['requests'][0])\n",
    "idx = 0;\n",
    "del(postman_coll['requests'][0])\n",
    "for combination in combinations:\n",
    "    valMap = {'isVal':combination[0],'loanType':combination[1],\n",
    "              'state':combination[2],'policyCount':combination[3]}\n",
    "    someobj = copy.deepcopy(requestTemplate)\n",
    "    idx+=1\n",
    "    someobj['name'] = str('Example ')+str(idx)\n",
    "    valJson = json.dumps(valMap, ensure_ascii=False)\n",
    "    someobj['rawModeData'] = str(valJson)\n",
    "    someid = str(uuid.uuid4())\n",
    "    someobj['id'] = someid\n",
    "    someobj['url'] = \"{{Url}}/Examples\"\n",
    "    someobj['method'] = \"POST\"\n",
    "    someobj['tests'] = str('tests[\"Status code is 201\"] = responseCode.code === 201;')\n",
    "    postman_coll['order'].append(someid)\n",
    "    postman_coll['requests'].append(someobj)\n",
    "\n",
    "with open('CombinatorialTesting2.json.postman_collection', 'w') as outfile:\n",
    "    json.dump(postman_coll, outfile)"
   ]
  },
  {
   "cell_type": "markdown",
   "metadata": {
    "slideshow": {
     "slide_type": "slide"
    }
   },
   "source": [
    "# Creating our demo API"
   ]
  },
  {
   "cell_type": "markdown",
   "metadata": {},
   "source": [
    "To keep in the spirit of the tutorial, we'll use a\n",
    "python library called \"flask\" to create our sample API.\n",
    "\n",
    "This API will contain two routes:\n",
    "\n",
    "   - GET /api/Examples\n",
    "   - POST /api/Examples\n",
    "\n",
    "The API will produce errors for some value combinations."
   ]
  },
  {
   "cell_type": "markdown",
   "metadata": {
    "slideshow": {
     "slide_type": "slide"
    }
   },
   "source": [
    "# Executing Postman Collections via UI"
   ]
  },
  {
   "cell_type": "markdown",
   "metadata": {
    "slideshow": {
     "slide_type": "slide"
    }
   },
   "source": [
    "# Executing Postman Collections via Newman"
   ]
  }
 ],
 "metadata": {
  "celltoolbar": "Slideshow",
  "kernelspec": {
   "display_name": "Python 3",
   "language": "python",
   "name": "python3"
  },
  "language_info": {
   "codemirror_mode": {
    "name": "ipython",
    "version": 3
   },
   "file_extension": ".py",
   "mimetype": "text/x-python",
   "name": "python",
   "nbconvert_exporter": "python",
   "pygments_lexer": "ipython3",
   "version": "3.5.1"
  }
 },
 "nbformat": 4,
 "nbformat_minor": 0
}
