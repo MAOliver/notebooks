{
 "cells": [
  {
   "cell_type": "markdown",
   "metadata": {
    "slideshow": {
     "slide_type": "slide"
    }
   },
   "source": [
    "# Testing your APIs using Generated Postman Tests"
   ]
  },
  {
   "cell_type": "markdown",
   "metadata": {},
   "source": [
    "\n",
    "\n",
    "\n",
    "- Author Matthew Oliver\n",
    "- Email matthewaustinoliver@gmail.com"
   ]
  },
  {
   "cell_type": "markdown",
   "metadata": {
    "slideshow": {
     "slide_type": "slide"
    }
   },
   "source": [
    "# Theory"
   ]
  },
  {
   "cell_type": "markdown",
   "metadata": {},
   "source": [
    "\n",
    "- full combinatoric coverage is not usually feasible in real-world systems\n",
    "- pairwise, base choice, each choice, or any number of other testing techniques may be required\n",
    "- pairwise testing catches ~50-90% of defects - \\[[kuhn](http://mse.isri.cmu.edu/software-engineering/documents/faculty-publications/miranda/kuhnintroductioncombinatorialtesting.pdf)\\]\n"
   ]
  },
  {
   "cell_type": "markdown",
   "metadata": {
    "slideshow": {
     "slide_type": "slide"
    }
   },
   "source": [
    "# Tools"
   ]
  },
  {
   "cell_type": "markdown",
   "metadata": {},
   "source": [
    "We'll be leveraging the following third-party tools for our test example:\n",
    "\n",
    "- Postman - Chrome Extension / Packaged App\n",
    "- Newman - a NodeJS based Postman CLI"
   ]
  },
  {
   "cell_type": "markdown",
   "metadata": {
    "slideshow": {
     "slide_type": "slide"
    }
   },
   "source": [
    "# Technique"
   ]
  },
  {
   "cell_type": "markdown",
   "metadata": {},
   "source": [
    "To illustrate the technique we will leverage\n",
    "\n",
    "- A sample REST WebAPI project\n",
    "- Python Scripts - to generate all input combinations and create our postman collections\n",
    "- Newman - to run our collections and report the output\n",
    "\n",
    "We will be naively performing an exhaustive combinatorial \n",
    "test due to the small app domain."
   ]
  },
  {
   "cell_type": "markdown",
   "metadata": {
    "slideshow": {
     "slide_type": "slide"
    }
   },
   "source": [
    "# Technique - Example API"
   ]
  },
  {
   "cell_type": "markdown",
   "metadata": {},
   "source": [
    "We'll create a simple .net webapi project consisting of two routes:\n",
    "\n",
    "   - GET /api/Examples\n",
    "   - POST /api/Examples\n",
    "\n",
    "The API will produce errors for some value combinations."
   ]
  },
  {
   "cell_type": "markdown",
   "metadata": {
    "slideshow": {
     "slide_type": "slide"
    }
   },
   "source": [
    "# Technique - The Dataset"
   ]
  },
  {
   "cell_type": "code",
   "execution_count": null,
   "metadata": {
    "collapsed": false,
    "slideshow": {
     "slide_type": "-"
    }
   },
   "outputs": [],
   "source": [
    "# imports\n",
    "%matplotlib inline\n",
    "from itertools import product\n",
    "import json, matplotlib, pyodbc, pandas, uuid, copy\n",
    "import matplotlib.pyplot as plt\n",
    "import numpy as np\n",
    "\n",
    "# some basic data\n",
    "a = [[True,False],['Purchase','Refinance','LoanModification'],['AZ'],[1,2,3,4]]\n",
    "pandas.DataFrame(a)"
   ]
  },
  {
   "cell_type": "markdown",
   "metadata": {
    "slideshow": {
     "slide_type": "slide"
    }
   },
   "source": [
    "# Technique - Combinations"
   ]
  },
  {
   "cell_type": "markdown",
   "metadata": {
    "slideshow": {
     "slide_type": "-"
    }
   },
   "source": [
    "To cover all combinations of will require n0 \\* n1 \\* ... nn combinations"
   ]
  },
  {
   "cell_type": "code",
   "execution_count": null,
   "metadata": {
    "collapsed": false,
    "slideshow": {
     "slide_type": "-"
    }
   },
   "outputs": [],
   "source": [
    "len(a[0])*len(a[1])*len(a[2])*len(a[3])"
   ]
  },
  {
   "cell_type": "markdown",
   "metadata": {
    "slideshow": {
     "slide_type": "slide"
    }
   },
   "source": [
    "Lets see what that looks like by generating all unique combinations."
   ]
  },
  {
   "cell_type": "code",
   "execution_count": null,
   "metadata": {
    "collapsed": false,
    "slideshow": {
     "slide_type": "-"
    }
   },
   "outputs": [],
   "source": [
    "combinations = list(product(*a))\n",
    "pandas.DataFrame(combinations)"
   ]
  },
  {
   "cell_type": "markdown",
   "metadata": {
    "slideshow": {
     "slide_type": "slide"
    }
   },
   "source": [
    "We can then convert the combinations to a JSON object which will\n",
    "be our data contract in this example."
   ]
  },
  {
   "cell_type": "code",
   "execution_count": null,
   "metadata": {
    "collapsed": false,
    "slideshow": {
     "slide_type": "-"
    }
   },
   "outputs": [],
   "source": [
    "for combination in combinations:\n",
    "    valMap = {'isVal':combination[0],'loanType':combination[1],\n",
    "              'state':combination[2],'policyCount':combination[3]}\n",
    "    print(json.dumps(valMap, ensure_ascii=False))"
   ]
  },
  {
   "cell_type": "markdown",
   "metadata": {
    "slideshow": {
     "slide_type": "slide"
    }
   },
   "source": [
    "Next, to be able to use our tests in postman we need to create a postman collection.\n",
    "First, we'll import an existing postman collection to a json object."
   ]
  },
  {
   "cell_type": "code",
   "execution_count": null,
   "metadata": {
    "collapsed": false,
    "slideshow": {
     "slide_type": "-"
    }
   },
   "outputs": [],
   "source": [
    "with open('CombinatorialTesting.json.postman_collection') as data_file:    \n",
    "    postman_coll = json.load(data_file)\n",
    "postman_coll"
   ]
  },
  {
   "cell_type": "markdown",
   "metadata": {
    "slideshow": {
     "slide_type": "slide"
    }
   },
   "source": [
    "Next we manipulate the template using our unique request combinations and\n",
    "dump it back out to the file system."
   ]
  },
  {
   "cell_type": "code",
   "execution_count": null,
   "metadata": {
    "collapsed": true,
    "slideshow": {
     "slide_type": "-"
    }
   },
   "outputs": [],
   "source": [
    "with open('CombinatorialTesting.json.postman_collection') as data_file:    \n",
    "    postman_coll = json.load(data_file)\n",
    "requestTemplate = copy.deepcopy(postman_coll['requests'][0])\n",
    "idx = 0;\n",
    "del(postman_coll['requests'][0])\n",
    "for combination in combinations:\n",
    "    valMap = {'isVal':combination[0],'loanType':combination[1],\n",
    "              'state':combination[2],'policyCount':combination[3]}\n",
    "    someobj = copy.deepcopy(requestTemplate)\n",
    "    idx+=1\n",
    "    someobj['name'] = str('Example ')+str(idx)\n",
    "    valJson = json.dumps(valMap, ensure_ascii=False)\n",
    "    someobj['rawModeData'] = str(valJson)\n",
    "    someid = str(uuid.uuid4())\n",
    "    someobj['id'] = someid\n",
    "    someobj['url'] = \"{{Url}}/Examples\"\n",
    "    someobj['method'] = \"POST\"\n",
    "    someobj['tests'] = str('tests[\"Status code is 201\"] = responseCode.code === 201;')\n",
    "    postman_coll['order'].append(someid)\n",
    "    postman_coll['requests'].append(someobj)\n",
    "\n",
    "with open('CombinatorialTesting2.json.postman_collection', 'w') as outfile:\n",
    "    json.dump(postman_coll, outfile)"
   ]
  },
  {
   "cell_type": "markdown",
   "metadata": {
    "slideshow": {
     "slide_type": "slide"
    }
   },
   "source": [
    "# RateServices RatesSpecReader Showcase"
   ]
  }
 ],
 "metadata": {
  "celltoolbar": "Slideshow",
  "kernelspec": {
   "display_name": "Python 3",
   "language": "python",
   "name": "python3"
  },
  "language_info": {
   "codemirror_mode": {
    "name": "ipython",
    "version": 3
   },
   "file_extension": ".py",
   "mimetype": "text/x-python",
   "name": "python",
   "nbconvert_exporter": "python",
   "pygments_lexer": "ipython3",
   "version": "3.5.1"
  }
 },
 "nbformat": 4,
 "nbformat_minor": 0
}
